{
 "cells": [
  {
   "cell_type": "code",
   "execution_count": 1,
   "metadata": {},
   "outputs": [
    {
     "name": "stderr",
     "output_type": "stream",
     "text": [
      "E\n",
      "======================================================================\n",
      "ERROR: test_input_frames (__main__.Test)\n",
      "----------------------------------------------------------------------\n",
      "Traceback (most recent call last):\n",
      "  File \"<ipython-input-1-2f22a7f86c98>\", line 19, in setUp\n",
      "    import Exercise1_01_codeExtension\n",
      "ModuleNotFoundError: No module named 'Exercise1_01_codeExtension'\n",
      "\n",
      "----------------------------------------------------------------------\n",
      "Ran 1 test in 0.001s\n",
      "\n",
      "FAILED (errors=1)\n"
     ]
    }
   ],
   "source": [
    "import unittest\n",
    "import numpy as np\n",
    "import pandas as pd\n",
    "import numpy.testing as np_testing\n",
    "import pandas.testing as pd_testing\n",
    "import os\n",
    "import import_ipynb\n",
    "import seaborn as sns\n",
    "\n",
    "class Test(unittest.TestCase):\n",
    "\n",
    "    def _dirname_if_file(self, filename):\n",
    "        if os.path.isdir(filename):\n",
    "            return filename\n",
    "        else:\n",
    "            return os.path.dirname(os.path.abspath(filename))\n",
    "\n",
    "    def setUp(self):    \n",
    "        import Exercise1_01_codeExtension\n",
    "        self.exercise = Exercise1_01_codeExtension\n",
    "       \n",
    "        self.tips = sns.load_dataset('tips')\n",
    "\n",
    "        \n",
    "    def test_input_frames(self):\n",
    "        pd_testing.assert_frame_equal(self.exercise.tips, self.tips)\n",
    "\n",
    "\n",
    "if __name__ == '__main__':\n",
    "    unittest.main(argv=['first-arg-is-ignored'], exit=False)"
   ]
  }
 ],
 "metadata": {
  "anaconda-cloud": {},
  "kernelspec": {
   "display_name": "Python 3",
   "language": "python",
   "name": "python3"
  },
  "language_info": {
   "codemirror_mode": {
    "name": "ipython",
    "version": 3
   },
   "file_extension": ".py",
   "mimetype": "text/x-python",
   "name": "python",
   "nbconvert_exporter": "python",
   "pygments_lexer": "ipython3",
   "version": "3.7.3"
  }
 },
 "nbformat": 4,
 "nbformat_minor": 1
}
