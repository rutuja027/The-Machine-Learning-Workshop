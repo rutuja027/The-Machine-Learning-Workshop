{
  "cells": [
    {
      "cell_type": "code",
      "metadata": {},
      "source": [
        "import unittest\n",
        "import numpy as np\n",
        "import pandas as pd\n",
        "import numpy.testing as np_testing\n",
        "import pandas.testing as pd_testing\n",
        "import os\n",
        "import import_ipynb\n",
        "\n",
        "\n",
        "class Test(unittest.TestCase):\n",
        "\n",
        "    def _dirname_if_file(self, filename):\n",
        "        if os.path.isdir(filename):\n",
        "            return filename\n",
        "        else:\n",
        "            return os.path.dirname(os.path.abspath(filename))\n",
        "\n",
        "    def setUp(self):    \n",
        "        import Exercise1_04_codeExtension.ipynb\n",
        "        self.exercise = Exercise1_04_codeExtension\n",
        "       \n",
        "        self.tips = pd.read_csv('tips.csv')\n",
        "\n",
        "        \n",
        "    def test_input_frames(self):\n",
        "        pd_testing.assert_frame_equal(self.exercise.tips, self.tips)\n",
        "\n",
        "\n",
        "if __name__ == '__main__':\n",
        "    unittest.main(argv=['first-arg-is-ignored'], exit=False)"
      ],
      "outputs": [],
      "execution_count": null
    }
  ],
  "metadata": {
    "anaconda-cloud": {},
    "kernelspec": {
      "display_name": "Python 3",
      "language": "python",
      "name": "python3"
    },
    "language_info": {
      "codemirror_mode": {
        "name": "ipython",
        "version": 3
      },
      "file_extension": ".py",
      "mimetype": "text/x-python",
      "name": "python",
      "nbconvert_exporter": "python",
      "pygments_lexer": "ipython3",
      "version": "3.6.1"
    }
  },
  "nbformat": 4,
  "nbformat_minor": 1
}